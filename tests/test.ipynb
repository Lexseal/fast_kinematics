{
 "cells": [
  {
   "cell_type": "code",
   "execution_count": 2,
   "metadata": {},
   "outputs": [],
   "source": [
    "# relative import ../build/fast_kinematics\n",
    "import sys\n",
    "sys.path.append('../build')\n",
    "import fast_kinematics\n",
    "import numpy as np\n",
    "import time\n",
    "import torch\n",
    "import pytorch_kinematics as pk"
   ]
  },
  {
   "cell_type": "code",
   "execution_count": 19,
   "metadata": {},
   "outputs": [],
   "source": [
    "model = fast_kinematics.FastKinematics(\"../kuka_iiwa.urdf\",1000,\"lbr_iiwa_link_7\")"
   ]
  },
  {
   "cell_type": "code",
   "execution_count": 20,
   "metadata": {},
   "outputs": [],
   "source": [
    "qpos = np.random.rand(7*1000)"
   ]
  },
  {
   "cell_type": "code",
   "execution_count": 75,
   "metadata": {},
   "outputs": [
    {
     "name": "stdout",
     "output_type": "stream",
     "text": [
      "Time taken for jacobian_mixed_frame:  0.6802520751953125\n"
     ]
    }
   ],
   "source": [
    "start_time = time.time()\n",
    "for _ in range(100):\n",
    "  poses = np.array(model.jacobian_mixed_frame(qpos))\n",
    "  poses = poses.reshape(1000,-1,6).transpose(0,2,1)\n",
    "end_time = time.time()\n",
    "print(\"Time taken for jacobian_mixed_frame: \", end_time - start_time)\n",
    "# print(poses)"
   ]
  },
  {
   "cell_type": "code",
   "execution_count": 76,
   "metadata": {},
   "outputs": [
    {
     "name": "stdout",
     "output_type": "stream",
     "text": [
      "Time:  1.3545196056365967\n"
     ]
    }
   ],
   "source": [
    "chain = pk.build_serial_chain_from_urdf(open(\"../kuka_iiwa.urdf\").read(), \"lbr_iiwa_link_7\")\n",
    "N = 1000\n",
    "d = \"cuda\" if torch.cuda.is_available() else \"cpu\"\n",
    "dtype = torch.float64\n",
    "\n",
    "chain = chain.to(dtype=dtype, device=d)\n",
    "# Jacobian calculation is differentiable\n",
    "th = torch.rand(N, 7, dtype=dtype, device=d, requires_grad=True)\n",
    "# (N,6,7)\n",
    "start_time = time.time()\n",
    "for _ in range(100):\n",
    "  J = chain.jacobian(th)\n",
    "end_time = time.time()\n",
    "print(\"Time: \", end_time - start_time)"
   ]
  }
 ],
 "metadata": {
  "kernelspec": {
   "display_name": "Python 3",
   "language": "python",
   "name": "python3"
  },
  "language_info": {
   "codemirror_mode": {
    "name": "ipython",
    "version": 3
   },
   "file_extension": ".py",
   "mimetype": "text/x-python",
   "name": "python",
   "nbconvert_exporter": "python",
   "pygments_lexer": "ipython3",
   "version": "3.9.16"
  }
 },
 "nbformat": 4,
 "nbformat_minor": 2
}
