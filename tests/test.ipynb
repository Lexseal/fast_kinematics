{
 "cells": [
  {
   "cell_type": "code",
   "execution_count": 1,
   "metadata": {},
   "outputs": [],
   "source": [
    "# # relative import ../build/fast_kinematics\n",
    "# import sys\n",
    "# sys.path.append('../../')\n",
    "import numpy as np\n",
    "import time\n",
    "import torch\n",
    "import fast_kinematics\n",
    "# import pytorch_kinematics as pk"
   ]
  },
  {
   "cell_type": "code",
   "execution_count": 2,
   "metadata": {},
   "outputs": [
    {
     "name": "stdout",
     "output_type": "stream",
     "text": [
      "2.2.2+cu118\n"
     ]
    }
   ],
   "source": [
    "N = 4096\n",
    "print(torch.__version__)"
   ]
  },
  {
   "cell_type": "code",
   "execution_count": 4,
   "metadata": {},
   "outputs": [
    {
     "name": "stdout",
     "output_type": "stream",
     "text": [
      "Joint name: lbr_iiwa_joint_1\n",
      "Joint type: 1\n",
      "Joint rotation: 0i + 0j + 0k + 1\n",
      "Joint position: 0i + 0j + 0.1575k + 0\n",
      "Joint axis: 0 0 1\n",
      "Joint name: lbr_iiwa_joint_2\n",
      "Joint type: 1\n",
      "Joint rotation: -7.3123e-14i + 0.707107j + 0.707107k + -7.3123e-14\n",
      "Joint position: 0i + 0j + 0.2025k + 0\n",
      "Joint axis: 0 0 1\n",
      "Parent joint name: lbr_iiwa_joint_1\n",
      "Joint name: lbr_iiwa_joint_3\n",
      "Joint type: 1\n",
      "Joint rotation: -7.3123e-14i + 0.707107j + 0.707107k + -7.3123e-14\n",
      "Joint position: 0i + 0.2045j + 0k + 0\n",
      "Joint axis: 0 0 1\n",
      "Parent joint name: lbr_iiwa_joint_2\n",
      "Joint name: lbr_iiwa_joint_4\n",
      "Joint type: 1\n",
      "Joint rotation: 0.707107i + 0j + 0k + 0.707107\n",
      "Joint position: 0i + 0j + 0.2155k + 0\n",
      "Joint axis: 0 0 1\n",
      "Parent joint name: lbr_iiwa_joint_3\n",
      "Joint name: lbr_iiwa_joint_5\n",
      "Joint type: 1\n",
      "Joint rotation: 7.3123e-14i + 0.707107j + 0.707107k + -7.3123e-14\n",
      "Joint position: 0i + 0.1845j + 0k + 0\n",
      "Joint axis: 0 0 1\n",
      "Parent joint name: lbr_iiwa_joint_4\n",
      "Joint name: lbr_iiwa_joint_6\n",
      "Joint type: 1\n",
      "Joint rotation: 0.707107i + 0j + 0k + 0.707107\n",
      "Joint position: 0i + 0j + 0.2155k + 0\n",
      "Joint axis: 0 0 1\n",
      "Parent joint name: lbr_iiwa_joint_5\n",
      "Joint name: lbr_iiwa_joint_7\n",
      "Joint type: 1\n",
      "Joint rotation: 7.3123e-14i + 0.707107j + 0.707107k + -7.3123e-14\n",
      "Joint position: 0i + 0.081j + 0k + 0\n",
      "Joint axis: 0 0 1\n",
      "Parent joint name: lbr_iiwa_joint_6\n",
      "Joint name: lbr_iiwa_joint_7\n",
      "Joint type: 1\n",
      "Joint name: lbr_iiwa_joint_6\n",
      "Joint type: 1\n",
      "Joint name: lbr_iiwa_joint_5\n",
      "Joint type: 1\n",
      "Joint name: lbr_iiwa_joint_4\n",
      "Joint type: 1\n",
      "Joint name: lbr_iiwa_joint_3\n",
      "Joint type: 1\n",
      "Joint name: lbr_iiwa_joint_2\n",
      "Joint type: 1\n",
      "Joint name: lbr_iiwa_joint_1\n",
      "Joint type: 1\n"
     ]
    }
   ],
   "source": [
    "# fask kinematics model\n",
    "model = fast_kinematics.FastKinematics(\"../kuka_iiwa.urdf\", N, \"lbr_iiwa_link_7\")"
   ]
  },
  {
   "cell_type": "code",
   "execution_count": 9,
   "metadata": {},
   "outputs": [],
   "source": [
    "# pk chain\n",
    "chain = pk.build_serial_chain_from_urdf(open(\"../kuka_iiwa.urdf\").read(), \"lbr_iiwa_link_7\")\n",
    "d = \"cuda\"\n",
    "dtype = torch.float32\n",
    "\n",
    "chain = chain.to(dtype=dtype, device=d)"
   ]
  },
  {
   "cell_type": "code",
   "execution_count": 10,
   "metadata": {},
   "outputs": [
    {
     "name": "stdout",
     "output_type": "stream",
     "text": [
      "Time taken for jacobian_mixed_frame: 0.00854259729385376 with std: 0.0011613306822710263\n"
     ]
    }
   ],
   "source": [
    "th = torch.rand(N, 7, dtype=dtype, device=d, requires_grad=True)\n",
    "all_times = []\n",
    "J = None\n",
    "for _ in range(100):\n",
    "  start_time = time.time()\n",
    "  J = chain.jacobian(th)\n",
    "  end_time = time.time()\n",
    "  all_times.append(end_time - start_time)\n",
    "print(f\"Time taken for jacobian_mixed_frame: {np.mean(all_times)} with std: {np.std(all_times)}\")"
   ]
  },
  {
   "cell_type": "code",
   "execution_count": 6,
   "metadata": {},
   "outputs": [
    {
     "name": "stdout",
     "output_type": "stream",
     "text": [
      "tensor([[[ 1,  7, 13, 19, 25, 31, 37],\n",
      "         [ 2,  8, 14, 20, 26, 32, 38],\n",
      "         [ 3,  9, 15, 21, 27, 33, 39],\n",
      "         [ 4, 10, 16, 22, 28, 34, 40],\n",
      "         [ 5, 11, 17, 23, 29, 35, 41],\n",
      "         [ 6, 12, 18, 24, 30, 36, 42]]])\n"
     ]
    }
   ],
   "source": [
    "# the output of fast_kinematics is column major 1d array, so we need to reshape it\n",
    "# experimenting to make sure we got it right\n",
    "flat_array = torch.arange(1,43)\n",
    "print(flat_array.view(-1,7,6).permute(0,2,1))"
   ]
  },
  {
   "cell_type": "code",
   "execution_count": 11,
   "metadata": {},
   "outputs": [
    {
     "name": "stdout",
     "output_type": "stream",
     "text": [
      "Time taken for fk: 4.538774490356445e-06 with std: 1.5257827219971919e-05\n"
     ]
    }
   ],
   "source": [
    "# flatten th\n",
    "th = th.view(N*7)\n",
    "all_times = []\n",
    "J2 = None\n",
    "for _ in range(1000):\n",
    "  start_time = time.time()\n",
    "  J2 = model.jacobian_mixed_frame_pytorch(th).view(-1,7,6).permute(0,2,1)\n",
    "  end_time = time.time()\n",
    "  all_times.append(end_time - start_time)\n",
    "print(f\"Time taken for fk: {np.mean(all_times)} with std: {np.std(all_times)}\")"
   ]
  },
  {
   "cell_type": "code",
   "execution_count": 12,
   "metadata": {},
   "outputs": [],
   "source": [
    "assert torch.allclose(J, J2, atol=1e-5)"
   ]
  },
  {
   "cell_type": "code",
   "execution_count": 13,
   "metadata": {},
   "outputs": [
    {
     "name": "stdout",
     "output_type": "stream",
     "text": [
      "Time taken for pinv: 0.03223166942596436 with std: 0.0038884625993035726\n"
     ]
    }
   ],
   "source": [
    "# test out pinv vs lstsq\n",
    "\n",
    "b = torch.rand(6, 1, dtype=dtype, device=d, requires_grad=False)\n",
    "x_pinv = torch.zeros(N, 7, dtype=dtype, device=d)\n",
    "all_times = []\n",
    "for i in range(100):\n",
    "  start_time = time.time()\n",
    "  # J2 is a collection of matrices but pinv seems to work on the entire batch\n",
    "  J2_pinv = torch.pinverse(J2)\n",
    "  if i == 0: x_pinv = torch.matmul(J2_pinv, b)\n",
    "  end_time = time.time()\n",
    "  all_times.append(end_time - start_time)\n",
    "print(f\"Time taken for pinv: {np.mean(all_times)} with std: {np.std(all_times)}\")\n",
    "\n",
    "# unit test correctness of pinv for an entire batch\n",
    "first_pinv = J2[0].pinverse()\n",
    "first_x = first_pinv @ b\n",
    "assert torch.allclose(first_x, x_pinv[0], atol=1e-5)"
   ]
  },
  {
   "cell_type": "code",
   "execution_count": 14,
   "metadata": {},
   "outputs": [
    {
     "name": "stdout",
     "output_type": "stream",
     "text": [
      "Time taken for lstsq: 0.024238510131835936 with std: 0.0020009472923546044\n"
     ]
    }
   ],
   "source": [
    "all_times = []\n",
    "x_lstsq = None\n",
    "new_b = b.view(1,6,1).repeat(N,1,1)  # repeat the same b for all N\n",
    "for i in range(100):\n",
    "  start_time = time.time()\n",
    "  x_lstsq = torch.linalg.lstsq(J2, new_b).solution\n",
    "  end_time = time.time()\n",
    "  all_times.append(end_time - start_time)\n",
    "print(f\"Time taken for lstsq: {np.mean(all_times)} with std: {np.std(all_times)}\")"
   ]
  },
  {
   "cell_type": "code",
   "execution_count": 10,
   "metadata": {},
   "outputs": [
    {
     "name": "stdout",
     "output_type": "stream",
     "text": [
      "torch.Size([4096, 6, 7])\n",
      "torch.Size([4096, 6, 7])\n"
     ]
    }
   ],
   "source": [
    "# checking to make sure the results are the same\n",
    "print(J.shape)\n",
    "print(J2.shape)\n",
    "assert torch.allclose(J, J2, atol=1e-5)"
   ]
  },
  {
   "cell_type": "code",
   "execution_count": 15,
   "metadata": {},
   "outputs": [
    {
     "name": "stdout",
     "output_type": "stream",
     "text": [
      "Time taken for jacobian_mixed_frame: 0.00032803034782409666 with std: 0.0004883862096649905\n"
     ]
    }
   ],
   "source": [
    "# just for fun numpy version still faster\n",
    "qpos = np.random.rand(7*N)\n",
    "qpos = qpos.astype(np.float32)\n",
    "\n",
    "all_times = []\n",
    "for _ in range(1000):\n",
    "  start_time = time.time()\n",
    "  poses = model.jacobian_mixed_frame(qpos)\n",
    "  poses = poses.reshape(N,-1,6).transpose(0,2,1)\n",
    "  end_time = time.time()\n",
    "  all_times.append(end_time - start_time)\n",
    "print(f\"Time taken for jacobian_mixed_frame: {np.mean(all_times)} with std: {np.std(all_times)}\")"
   ]
  }
 ],
 "metadata": {
  "kernelspec": {
   "display_name": "Python 3",
   "language": "python",
   "name": "python3"
  },
  "language_info": {
   "codemirror_mode": {
    "name": "ipython",
    "version": 3
   },
   "file_extension": ".py",
   "mimetype": "text/x-python",
   "name": "python",
   "nbconvert_exporter": "python",
   "pygments_lexer": "ipython3",
   "version": "3.10.13"
  }
 },
 "nbformat": 4,
 "nbformat_minor": 2
}
