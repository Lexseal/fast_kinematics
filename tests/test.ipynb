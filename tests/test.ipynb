{
 "cells": [
  {
   "cell_type": "code",
   "execution_count": 1,
   "metadata": {},
   "outputs": [],
   "source": [
    "# relative import ../build/fast_kinematics\n",
    "import sys\n",
    "sys.path.append('../build')\n",
    "import fast_kinematics\n",
    "import numpy as np\n",
    "import time\n",
    "import torch\n",
    "import pytorch_kinematics as pk"
   ]
  },
  {
   "cell_type": "code",
   "execution_count": 101,
   "metadata": {},
   "outputs": [],
   "source": [
    "N = 4096"
   ]
  },
  {
   "cell_type": "code",
   "execution_count": 102,
   "metadata": {},
   "outputs": [
    {
     "name": "stdout",
     "output_type": "stream",
     "text": [
      "Time taken for jacobian_mixed_frame: 0.009627951383590698 with std: 0.0021229041694825683\n"
     ]
    }
   ],
   "source": [
    "model = fast_kinematics.FastKinematics(\"../kuka_iiwa.urdf\",N,\"lbr_iiwa_link_7\")\n",
    "qpos = np.random.rand(7*N)\n",
    "\n",
    "all_times = []\n",
    "for _ in range(1000):\n",
    "  start_time = time.time()\n",
    "  poses = np.array(model.jacobian_mixed_frame(qpos))\n",
    "  poses = poses.reshape(N,-1,6).transpose(0,2,1)\n",
    "  end_time = time.time()\n",
    "  all_times.append(end_time - start_time)\n",
    "print(f\"Time taken for jacobian_mixed_frame: {np.mean(all_times)} with std: {np.std(all_times)}\")"
   ]
  },
  {
   "cell_type": "code",
   "execution_count": 103,
   "metadata": {},
   "outputs": [
    {
     "name": "stdout",
     "output_type": "stream",
     "text": [
      "Time taken for jacobian_mixed_frame: 0.03035259246826172 with std: 0.003549135053997798\n"
     ]
    }
   ],
   "source": [
    "chain = pk.build_serial_chain_from_urdf(open(\"../kuka_iiwa.urdf\").read(), \"lbr_iiwa_link_7\")\n",
    "d = \"cuda\" if torch.cuda.is_available() else \"cpu\"\n",
    "dtype = torch.float32\n",
    "\n",
    "chain = chain.to(dtype=dtype, device=d)\n",
    "th = torch.rand(N, 7, dtype=dtype, device=d, requires_grad=True)\n",
    "all_times = []\n",
    "for _ in range(100):\n",
    "  start_time = time.time()\n",
    "  J = chain.jacobian(th)\n",
    "  end_time = time.time()\n",
    "  all_times.append(end_time - start_time)\n",
    "print(f\"Time taken for jacobian_mixed_frame: {np.mean(all_times)} with std: {np.std(all_times)}\")"
   ]
  },
  {
   "cell_type": "code",
   "execution_count": 104,
   "metadata": {},
   "outputs": [
    {
     "name": "stdout",
     "output_type": "stream",
     "text": [
      "Time taken for jacobian_mixed_frame: 0.008483309745788575 with std: 0.001416382877823726\n"
     ]
    }
   ],
   "source": [
    "model = fast_kinematics.FastKinematics(\"../kuka_iiwa.urdf\",N,\"lbr_iiwa_link_7\")\n",
    "qpos = np.random.rand(7*N)\n",
    "\n",
    "all_times = []\n",
    "for _ in range(100):\n",
    "  start_time = time.time()\n",
    "  poses = model.do_nothing(qpos)\n",
    "  # poses = poses.reshape(N,-1,6).transpose(0,2,1)\n",
    "  end_time = time.time()\n",
    "  all_times.append(end_time - start_time)\n",
    "print(f\"Time taken for jacobian_mixed_frame: {np.mean(all_times)} with std: {np.std(all_times)}\")"
   ]
  },
  {
   "cell_type": "code",
   "execution_count": 105,
   "metadata": {},
   "outputs": [
    {
     "name": "stdout",
     "output_type": "stream",
     "text": [
      "(28672,)\n"
     ]
    }
   ],
   "source": [
    "qpos = qpos.reshape(N*7,1)\n",
    "poses = model.forward_kinematics(qpos)\n",
    "print(poses.shape)"
   ]
  }
 ],
 "metadata": {
  "kernelspec": {
   "display_name": "Python 3",
   "language": "python",
   "name": "python3"
  },
  "language_info": {
   "codemirror_mode": {
    "name": "ipython",
    "version": 3
   },
   "file_extension": ".py",
   "mimetype": "text/x-python",
   "name": "python",
   "nbconvert_exporter": "python",
   "pygments_lexer": "ipython3",
   "version": "3.9.16"
  }
 },
 "nbformat": 4,
 "nbformat_minor": 2
}
