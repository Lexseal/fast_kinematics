{
 "cells": [
  {
   "cell_type": "code",
   "execution_count": 1,
   "metadata": {},
   "outputs": [],
   "source": [
    "# # relative import ../build/fast_kinematics\n",
    "# import sys\n",
    "# sys.path.append('../build')\n",
    "import numpy as np\n",
    "import time\n",
    "import torch\n",
    "import fast_kinematics\n",
    "import pytorch_kinematics as pk"
   ]
  },
  {
   "cell_type": "code",
   "execution_count": 2,
   "metadata": {},
   "outputs": [],
   "source": [
    "N = 4096"
   ]
  },
  {
   "cell_type": "code",
   "execution_count": 3,
   "metadata": {},
   "outputs": [],
   "source": [
    "# fask kinematics model\n",
    "model = fast_kinematics.FastKinematics(\"../kuka_iiwa.urdf\", N, \"lbr_iiwa_link_7\")"
   ]
  },
  {
   "cell_type": "code",
   "execution_count": 4,
   "metadata": {},
   "outputs": [],
   "source": [
    "# pk chain\n",
    "chain = pk.build_serial_chain_from_urdf(open(\"../kuka_iiwa.urdf\").read(), \"lbr_iiwa_link_7\")\n",
    "d = \"cuda\"\n",
    "dtype = torch.float32\n",
    "\n",
    "chain = chain.to(dtype=dtype, device=d)"
   ]
  },
  {
   "cell_type": "code",
   "execution_count": 5,
   "metadata": {},
   "outputs": [
    {
     "name": "stdout",
     "output_type": "stream",
     "text": [
      "Time taken for jacobian_mixed_frame: 0.0229028058052063 with std: 0.03874634669933667\n"
     ]
    }
   ],
   "source": [
    "th = torch.rand(N, 7, dtype=dtype, device=d, requires_grad=True)\n",
    "all_times = []\n",
    "J = None\n",
    "for _ in range(100):\n",
    "  start_time = time.time()\n",
    "  J = chain.jacobian(th)\n",
    "  end_time = time.time()\n",
    "  all_times.append(end_time - start_time)\n",
    "print(f\"Time taken for jacobian_mixed_frame: {np.mean(all_times)} with std: {np.std(all_times)}\")"
   ]
  },
  {
   "cell_type": "code",
   "execution_count": 6,
   "metadata": {},
   "outputs": [
    {
     "name": "stdout",
     "output_type": "stream",
     "text": [
      "tensor([[[ 1,  7, 13, 19, 25, 31, 37],\n",
      "         [ 2,  8, 14, 20, 26, 32, 38],\n",
      "         [ 3,  9, 15, 21, 27, 33, 39],\n",
      "         [ 4, 10, 16, 22, 28, 34, 40],\n",
      "         [ 5, 11, 17, 23, 29, 35, 41],\n",
      "         [ 6, 12, 18, 24, 30, 36, 42]]])\n"
     ]
    }
   ],
   "source": [
    "# the output of fast_kinematics is column major 1d array, so we need to reshape it\n",
    "# experimenting to make sure we got it right\n",
    "flat_array = torch.arange(1,43)\n",
    "print(flat_array.view(-1,7,6).permute(0,2,1))"
   ]
  },
  {
   "cell_type": "code",
   "execution_count": 11,
   "metadata": {},
   "outputs": [
    {
     "name": "stdout",
     "output_type": "stream",
     "text": [
      "Time taken for fk: 1.8442869186401368e-05 with std: 2.9497979648121494e-05\n"
     ]
    }
   ],
   "source": [
    "# flatten th\n",
    "th = th.view(N*7)\n",
    "all_times = []\n",
    "J2 = None\n",
    "for _ in range(1000):\n",
    "  start_time = time.time()\n",
    "  J2 = model.jacobian_mixed_frame_pytorch(th).view(-1,7,6).permute(0,2,1)\n",
    "  end_time = time.time()\n",
    "  all_times.append(end_time - start_time)\n",
    "print(f\"Time taken for fk: {np.mean(all_times)} with std: {np.std(all_times)}\")"
   ]
  },
  {
   "cell_type": "code",
   "execution_count": 10,
   "metadata": {},
   "outputs": [
    {
     "name": "stdout",
     "output_type": "stream",
     "text": [
      "torch.Size([4096, 6, 7])\n",
      "torch.Size([4096, 6, 7])\n"
     ]
    }
   ],
   "source": [
    "# checking to make sure the results are the same\n",
    "print(J.shape)\n",
    "print(J2.shape)\n",
    "assert torch.allclose(J, J2, atol=1e-5)"
   ]
  },
  {
   "cell_type": "code",
   "execution_count": 52,
   "metadata": {},
   "outputs": [
    {
     "name": "stdout",
     "output_type": "stream",
     "text": [
      "Time taken for jacobian_mixed_frame: 0.00036020946502685546 with std: 0.00024479653917321246\n"
     ]
    }
   ],
   "source": [
    "# just for fun numpy version still faster\n",
    "qpos = np.random.rand(7*N)\n",
    "qpos = qpos.astype(np.float32)\n",
    "\n",
    "all_times = []\n",
    "for _ in range(1000):\n",
    "  start_time = time.time()\n",
    "  poses = model.jacobian_mixed_frame(qpos)\n",
    "  poses = poses.reshape(N,-1,6).transpose(0,2,1)\n",
    "  end_time = time.time()\n",
    "  all_times.append(end_time - start_time)\n",
    "print(f\"Time taken for jacobian_mixed_frame: {np.mean(all_times)} with std: {np.std(all_times)}\")"
   ]
  }
 ],
 "metadata": {
  "kernelspec": {
   "display_name": "Python 3",
   "language": "python",
   "name": "python3"
  },
  "language_info": {
   "codemirror_mode": {
    "name": "ipython",
    "version": 3
   },
   "file_extension": ".py",
   "mimetype": "text/x-python",
   "name": "python",
   "nbconvert_exporter": "python",
   "pygments_lexer": "ipython3",
   "version": "3.9.18"
  }
 },
 "nbformat": 4,
 "nbformat_minor": 2
}
