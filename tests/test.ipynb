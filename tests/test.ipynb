{
 "cells": [
  {
   "cell_type": "code",
   "execution_count": 1,
   "metadata": {},
   "outputs": [],
   "source": [
    "# relative import ../build/fast_kinematics\n",
    "import sys\n",
    "sys.path.append('../build')\n",
    "import fast_kinematics\n",
    "import numpy as np\n",
    "import time\n",
    "import torch\n",
    "import pytorch_kinematics as pk"
   ]
  },
  {
   "cell_type": "code",
   "execution_count": 2,
   "metadata": {},
   "outputs": [],
   "source": [
    "N = 4096"
   ]
  },
  {
   "cell_type": "code",
   "execution_count": 6,
   "metadata": {},
   "outputs": [
    {
     "name": "stdout",
     "output_type": "stream",
     "text": [
      "Time taken for jacobian_mixed_frame: 0.0004795355796813965 with std: 2.5500122492389915e-05\n"
     ]
    }
   ],
   "source": [
    "model = fast_kinematics.FastKinematics(\"../kuka_iiwa.urdf\",N,\"lbr_iiwa_link_7\")\n",
    "qpos = np.random.rand(7*N)\n",
    "qpos = qpos.astype(np.float32)\n",
    "\n",
    "all_times = []\n",
    "for _ in range(1000):\n",
    "  start_time = time.time()\n",
    "  poses = np.array(model.jacobian_mixed_frame(qpos))\n",
    "  poses = poses.reshape(N,-1,6).transpose(0,2,1)\n",
    "  end_time = time.time()\n",
    "  all_times.append(end_time - start_time)\n",
    "print(f\"Time taken for jacobian_mixed_frame: {np.mean(all_times)} with std: {np.std(all_times)}\")"
   ]
  },
  {
   "cell_type": "code",
   "execution_count": 9,
   "metadata": {},
   "outputs": [
    {
     "name": "stdout",
     "output_type": "stream",
     "text": [
      "Time taken for jacobian_mixed_frame: 0.01989931344985962 with std: 0.003924286964860558\n"
     ]
    }
   ],
   "source": [
    "chain = pk.build_serial_chain_from_urdf(open(\"../kuka_iiwa.urdf\").read(), \"lbr_iiwa_link_7\")\n",
    "d = \"cuda\" if torch.cuda.is_available() else \"cpu\"\n",
    "dtype = torch.float32\n",
    "\n",
    "chain = chain.to(dtype=dtype, device=d)\n",
    "th = torch.rand(N, 7, dtype=dtype, device=d, requires_grad=True)\n",
    "all_times = []\n",
    "for _ in range(100):\n",
    "  start_time = time.time()\n",
    "  J = chain.jacobian(th)\n",
    "  end_time = time.time()\n",
    "  all_times.append(end_time - start_time)\n",
    "print(f\"Time taken for jacobian_mixed_frame: {np.mean(all_times)} with std: {np.std(all_times)}\")"
   ]
  },
  {
   "cell_type": "code",
   "execution_count": 3,
   "metadata": {},
   "outputs": [
    {
     "name": "stdout",
     "output_type": "stream",
     "text": [
      "Time taken for jacobian_mixed_frame: 1.153707504272461e-05 with std: 1.2102644436211058e-05\n"
     ]
    }
   ],
   "source": [
    "model = fast_kinematics.FastKinematics(\"../kuka_iiwa.urdf\",N,\"lbr_iiwa_link_7\")\n",
    "qpos = np.random.rand(7*N,1)\n",
    "qpos = np.array(qpos, order='F', dtype=np.float32)\n",
    "\n",
    "all_times = []\n",
    "for _ in range(100):\n",
    "  start_time = time.time()\n",
    "  poses = model.do_nothing(qpos)\n",
    "  # poses = poses.reshape(N,-1,6).transpose(0,2,1)\n",
    "  end_time = time.time()\n",
    "  all_times.append(end_time - start_time)\n",
    "print(f\"Time taken for jacobian_mixed_frame: {np.mean(all_times)} with std: {np.std(all_times)}\")"
   ]
  },
  {
   "cell_type": "code",
   "execution_count": 6,
   "metadata": {},
   "outputs": [
    {
     "name": "stdout",
     "output_type": "stream",
     "text": [
      "(28672,)\n"
     ]
    }
   ],
   "source": [
    "qpos = qpos.reshape(N*7,1)\n",
    "poses = model.forward_kinematics(qpos)\n",
    "print(poses.shape)"
   ]
  }
 ],
 "metadata": {
  "kernelspec": {
   "display_name": "Python 3",
   "language": "python",
   "name": "python3"
  },
  "language_info": {
   "codemirror_mode": {
    "name": "ipython",
    "version": 3
   },
   "file_extension": ".py",
   "mimetype": "text/x-python",
   "name": "python",
   "nbconvert_exporter": "python",
   "pygments_lexer": "ipython3",
   "version": "3.9.16"
  }
 },
 "nbformat": 4,
 "nbformat_minor": 2
}
