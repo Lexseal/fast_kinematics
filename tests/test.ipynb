{
 "cells": [
  {
   "cell_type": "code",
   "execution_count": 1,
   "metadata": {},
   "outputs": [],
   "source": [
    "# relative import ../build/fast_kinematics\n",
    "import sys\n",
    "sys.path.append('../build')\n",
    "import fast_kinematics\n",
    "import numpy as np"
   ]
  },
  {
   "cell_type": "code",
   "execution_count": 2,
   "metadata": {},
   "outputs": [],
   "source": [
    "model = fast_kinematics.FastKinematics(\"../kuka_iiwa.urdf\",2,\"lbr_iiwa_link_7\")"
   ]
  },
  {
   "cell_type": "code",
   "execution_count": 4,
   "metadata": {},
   "outputs": [
    {
     "name": "stdout",
     "output_type": "stream",
     "text": [
      "(14,)\n"
     ]
    }
   ],
   "source": [
    "qpos1 = np.array([0,0,0,0,0,0,0])\n",
    "qpos2 = np.array([0.0, -np.pi / 4.0, 0.0, np.pi / 2.0, 0.0, np.pi / 4.0, 0.0])\n",
    "qpos = np.concatenate((qpos1,qpos2))\n",
    "print(qpos.shape)"
   ]
  },
  {
   "cell_type": "code",
   "execution_count": 7,
   "metadata": {},
   "outputs": [
    {
     "name": "stdout",
     "output_type": "stream",
     "text": [
      "[[[ 3.41952777e-09  9.01000023e-01 -1.35793536e-08 -4.80999976e-01\n",
      "    1.70270645e-10  8.09999630e-02 -0.00000000e+00]\n",
      "  [ 1.44052305e-13  1.86347641e-13 -1.35525272e-20 -9.94819258e-14\n",
      "   -6.77626358e-21  3.35053301e-14  0.00000000e+00]\n",
      "  [-0.00000000e+00 -1.44052305e-13  2.80852435e-21  9.94819122e-14\n",
      "   -3.52159057e-23 -1.67526701e-14  0.00000000e+00]\n",
      "  [ 0.00000000e+00 -2.06823125e-13  2.06823138e-13  2.06823125e-13\n",
      "    2.06823138e-13 -4.13646222e-13  2.06823152e-13]\n",
      "  [ 0.00000000e+00  1.00000000e+00 -2.53761065e-08 -9.99999940e-01\n",
      "    6.87052248e-10  9.99999940e-01 -6.87052248e-10]\n",
      "  [ 1.00000000e+00  2.50325769e-08  1.00000000e+00  1.26880479e-08\n",
      "    1.00000000e+00  1.26880479e-08  1.00000000e+00]]\n",
      "\n",
      " [[-1.42078815e-09  1.41421556e-02 -2.34443265e-09  2.82842696e-01\n",
      "    3.89858645e-10  8.25074363e-18 -0.00000000e+00]\n",
      "  [-6.60827518e-01 -1.65422129e-08 -4.57275599e-01  3.06810466e-09\n",
      "    5.72756566e-02  1.21214927e-09  0.00000000e+00]\n",
      "  [ 0.00000000e+00  6.60827518e-01  1.34776323e-09 -3.63842666e-01\n",
      "    3.90741078e-10  8.09999704e-02  0.00000000e+00]\n",
      "  [ 0.00000000e+00 -2.06823125e-13 -7.07106709e-01 -8.40301873e-09\n",
      "   -7.07106709e-01  8.40301873e-09 -1.00000000e+00]\n",
      "  [ 0.00000000e+00  1.00000000e+00  5.70941605e-09 -1.00000000e+00\n",
      "    9.63703162e-09  1.00000000e+00 -1.74579000e-08]\n",
      "  [ 1.00000000e+00  2.50325769e-08  7.07106769e-01 -1.49648116e-08\n",
      "   -7.07106769e-01 -1.49648116e-08  9.69817506e-08]]]\n"
     ]
    }
   ],
   "source": [
    "poses = np.array(model.jacobian_mixed_frame(qpos))\n",
    "poses = poses.reshape(2,-1,6).transpose(0,2,1)\n",
    "\n",
    "print(poses)"
   ]
  }
 ],
 "metadata": {
  "kernelspec": {
   "display_name": "Python 3",
   "language": "python",
   "name": "python3"
  },
  "language_info": {
   "codemirror_mode": {
    "name": "ipython",
    "version": 3
   },
   "file_extension": ".py",
   "mimetype": "text/x-python",
   "name": "python",
   "nbconvert_exporter": "python",
   "pygments_lexer": "ipython3",
   "version": "3.9.16"
  }
 },
 "nbformat": 4,
 "nbformat_minor": 2
}
